{
 "cells": [
  {
   "cell_type": "code",
   "execution_count": 38,
   "id": "fcb78dff",
   "metadata": {},
   "outputs": [],
   "source": [
    "import kagglehub\n",
    "\n",
    "import warnings\n",
    "warnings.filterwarnings(\"ignore\")\n",
    "\n",
    "import numpy as np\n",
    "import pandas as pd\n",
    "pd.set_option('display.max_columns', None)\n",
    "pd.options.display.float_format = '{:,.2f}'.format\n",
    "\n",
    "import matplotlib.pyplot as plt\n",
    "import seaborn as sns\n",
    "\n",
    "from sklearn.preprocessing import MinMaxScaler\n",
    "from sklearn.decomposition import PCA\n",
    "from sklearn.ensemble import IsolationForest\n",
    "from sklearn.svm import OneClassSVM\n",
    "from sklearn.cluster import DBSCAN\n",
    "from sklearn.metrics import precision_recall_curve, average_precision_score"
   ]
  },
  {
   "cell_type": "code",
   "execution_count": 2,
   "id": "c216a0e6",
   "metadata": {},
   "outputs": [
    {
     "name": "stdout",
     "output_type": "stream",
     "text": [
      "Warning: Looks like you're using an outdated `kagglehub` version (installed: 0.3.11), please consider upgrading to the latest version (0.3.12).\n",
      "Path to dataset files: C:\\Users\\mia.jensen\\.cache\\kagglehub\\datasets\\ealaxi\\paysim1\\versions\\2\n"
     ]
    },
    {
     "data": {
      "text/html": [
       "<div>\n",
       "<style scoped>\n",
       "    .dataframe tbody tr th:only-of-type {\n",
       "        vertical-align: middle;\n",
       "    }\n",
       "\n",
       "    .dataframe tbody tr th {\n",
       "        vertical-align: top;\n",
       "    }\n",
       "\n",
       "    .dataframe thead th {\n",
       "        text-align: right;\n",
       "    }\n",
       "</style>\n",
       "<table border=\"1\" class=\"dataframe\">\n",
       "  <thead>\n",
       "    <tr style=\"text-align: right;\">\n",
       "      <th></th>\n",
       "      <th>step</th>\n",
       "      <th>type</th>\n",
       "      <th>amount</th>\n",
       "      <th>nameOrig</th>\n",
       "      <th>nameDest</th>\n",
       "      <th>isFraud</th>\n",
       "      <th>isFlaggedFraud</th>\n",
       "    </tr>\n",
       "  </thead>\n",
       "  <tbody>\n",
       "    <tr>\n",
       "      <th>0</th>\n",
       "      <td>1</td>\n",
       "      <td>PAYMENT</td>\n",
       "      <td>9,839.64</td>\n",
       "      <td>C1231006815</td>\n",
       "      <td>M1979787155</td>\n",
       "      <td>0</td>\n",
       "      <td>0</td>\n",
       "    </tr>\n",
       "    <tr>\n",
       "      <th>1</th>\n",
       "      <td>1</td>\n",
       "      <td>PAYMENT</td>\n",
       "      <td>1,864.28</td>\n",
       "      <td>C1666544295</td>\n",
       "      <td>M2044282225</td>\n",
       "      <td>0</td>\n",
       "      <td>0</td>\n",
       "    </tr>\n",
       "    <tr>\n",
       "      <th>2</th>\n",
       "      <td>1</td>\n",
       "      <td>TRANSFER</td>\n",
       "      <td>181.00</td>\n",
       "      <td>C1305486145</td>\n",
       "      <td>C553264065</td>\n",
       "      <td>1</td>\n",
       "      <td>0</td>\n",
       "    </tr>\n",
       "    <tr>\n",
       "      <th>3</th>\n",
       "      <td>1</td>\n",
       "      <td>CASH_OUT</td>\n",
       "      <td>181.00</td>\n",
       "      <td>C840083671</td>\n",
       "      <td>C38997010</td>\n",
       "      <td>1</td>\n",
       "      <td>0</td>\n",
       "    </tr>\n",
       "    <tr>\n",
       "      <th>4</th>\n",
       "      <td>1</td>\n",
       "      <td>PAYMENT</td>\n",
       "      <td>11,668.14</td>\n",
       "      <td>C2048537720</td>\n",
       "      <td>M1230701703</td>\n",
       "      <td>0</td>\n",
       "      <td>0</td>\n",
       "    </tr>\n",
       "  </tbody>\n",
       "</table>\n",
       "</div>"
      ],
      "text/plain": [
       "   step      type    amount     nameOrig     nameDest  isFraud  isFlaggedFraud\n",
       "0     1   PAYMENT  9,839.64  C1231006815  M1979787155        0               0\n",
       "1     1   PAYMENT  1,864.28  C1666544295  M2044282225        0               0\n",
       "2     1  TRANSFER    181.00  C1305486145   C553264065        1               0\n",
       "3     1  CASH_OUT    181.00   C840083671    C38997010        1               0\n",
       "4     1   PAYMENT 11,668.14  C2048537720  M1230701703        0               0"
      ]
     },
     "metadata": {},
     "output_type": "display_data"
    },
    {
     "name": "stdout",
     "output_type": "stream",
     "text": [
      "(6362620, 7)\n"
     ]
    }
   ],
   "source": [
    "# https://www.kaggle.com/datasets/ealaxi/paysim1\n",
    "path = kagglehub.dataset_download(\"ealaxi/paysim1\") #synthetic financial data for fraud detection \n",
    "print(\"Path to dataset files:\", path)\n",
    "df = pd.read_csv(path + \"\\\\data.csv\")\n",
    "df = df.drop(columns=[\"oldbalanceOrg\", \"newbalanceOrig\", \"oldbalanceDest\", \"newbalanceDest\"])\n",
    "display(df.head())\n",
    "print(df.shape)"
   ]
  },
  {
   "cell_type": "markdown",
   "id": "7d07299a",
   "metadata": {},
   "source": [
    "##### __About this dataset__\n",
    "\n",
    "* PaySim simulates mobile money transactions based on a sample of real transactions extracted from one month of financial logs from a mobile money service.\n",
    "* The original logs were provided by a multinational company, who is the provider of the mobile financial service which is currently running in more than 14 countries all around the world.\n",
    "* This synthetic dataset is scaled down 1/4 of the original dataset and it is created just for Kaggle.\n",
    "* Transactions which are detected as fraud are cancelled, so for fraud detection these columns (oldbalanceOrg, newbalanceOrig, oldbalanceDest, newbalanceDest) must not be used.\n",
    "* Highly unbalanced, the positive class (frauds) account for very small proportion of all transactions. Given the class imbalance ratio, we recommend measuring the accuracy using the Area Under the Precision-Recall Curve (AUPRC). Confusion matrix accuracy is not meaningful for unbalanced classification.\n",
    "\n",
    "##### __Fields__\n",
    "\n",
    "* step - maps a unit of time in the real world. In this case 1 step is 1 hour of time. Total steps 744 (30 days simulation).\n",
    "* type - CASH-IN, CASH-OUT, DEBIT, PAYMENT and TRANSFER.\n",
    "* amount - amount of the transaction in local currency.\n",
    "* nameOrig - customer who started the transaction\n",
    "* oldbalanceOrg - initial balance before the transaction\n",
    "* newbalanceOrig - new balance after the transaction.\n",
    "* nameDest - customer who is the recipient of the transaction\n",
    "* oldbalanceDest - initial balance recipient before the transaction. Note that there is not information for customers that start with M (Merchants).\n",
    "* newbalanceDest - new balance recipient after the transaction. Note that there is not information for customers that start with M (Merchants).\n",
    "* isFraud - This is the transactions made by the fraudulent agents inside the simulation. In this specific dataset the fraudulent behavior of the agents aims to profit by taking control or customers accounts and try to empty the funds by transferring to another account and then cashing out of the system.\n",
    "* isFlaggedFraud - The business model aims to control massive transfers from one account to another and flags illegal attempts. An illegal attempt in this dataset is an attempt to transfer more than 200.000 in a single transaction."
   ]
  },
  {
   "cell_type": "markdown",
   "id": "b5e88671",
   "metadata": {},
   "source": [
    "##### __Summary Statistics__"
   ]
  },
  {
   "cell_type": "code",
   "execution_count": 42,
   "id": "1b89edfd",
   "metadata": {},
   "outputs": [
    {
     "name": "stdout",
     "output_type": "stream",
     "text": [
      "<class 'pandas.core.frame.DataFrame'>\n",
      "RangeIndex: 6362620 entries, 0 to 6362619\n",
      "Data columns (total 7 columns):\n",
      " #   Column          Dtype  \n",
      "---  ------          -----  \n",
      " 0   step            int64  \n",
      " 1   type            object \n",
      " 2   amount          float64\n",
      " 3   nameOrig        object \n",
      " 4   nameDest        object \n",
      " 5   isFraud         int64  \n",
      " 6   isFlaggedFraud  int64  \n",
      "dtypes: float64(1), int64(3), object(3)\n",
      "memory usage: 339.8+ MB\n"
     ]
    }
   ],
   "source": [
    "df.info()"
   ]
  },
  {
   "cell_type": "code",
   "execution_count": 43,
   "id": "f61606c4",
   "metadata": {},
   "outputs": [
    {
     "data": {
      "text/html": [
       "<div>\n",
       "<style scoped>\n",
       "    .dataframe tbody tr th:only-of-type {\n",
       "        vertical-align: middle;\n",
       "    }\n",
       "\n",
       "    .dataframe tbody tr th {\n",
       "        vertical-align: top;\n",
       "    }\n",
       "\n",
       "    .dataframe thead th {\n",
       "        text-align: right;\n",
       "    }\n",
       "</style>\n",
       "<table border=\"1\" class=\"dataframe\">\n",
       "  <thead>\n",
       "    <tr style=\"text-align: right;\">\n",
       "      <th></th>\n",
       "      <th>step</th>\n",
       "      <th>amount</th>\n",
       "      <th>isFraud</th>\n",
       "      <th>isFlaggedFraud</th>\n",
       "    </tr>\n",
       "  </thead>\n",
       "  <tbody>\n",
       "    <tr>\n",
       "      <th>count</th>\n",
       "      <td>6,362,620.00</td>\n",
       "      <td>6,362,620.00</td>\n",
       "      <td>6,362,620.00</td>\n",
       "      <td>6,362,620.00</td>\n",
       "    </tr>\n",
       "    <tr>\n",
       "      <th>mean</th>\n",
       "      <td>243.40</td>\n",
       "      <td>179,861.90</td>\n",
       "      <td>0.00</td>\n",
       "      <td>0.00</td>\n",
       "    </tr>\n",
       "    <tr>\n",
       "      <th>std</th>\n",
       "      <td>142.33</td>\n",
       "      <td>603,858.23</td>\n",
       "      <td>0.04</td>\n",
       "      <td>0.00</td>\n",
       "    </tr>\n",
       "    <tr>\n",
       "      <th>min</th>\n",
       "      <td>1.00</td>\n",
       "      <td>0.00</td>\n",
       "      <td>0.00</td>\n",
       "      <td>0.00</td>\n",
       "    </tr>\n",
       "    <tr>\n",
       "      <th>25%</th>\n",
       "      <td>156.00</td>\n",
       "      <td>13,389.57</td>\n",
       "      <td>0.00</td>\n",
       "      <td>0.00</td>\n",
       "    </tr>\n",
       "    <tr>\n",
       "      <th>50%</th>\n",
       "      <td>239.00</td>\n",
       "      <td>74,871.94</td>\n",
       "      <td>0.00</td>\n",
       "      <td>0.00</td>\n",
       "    </tr>\n",
       "    <tr>\n",
       "      <th>75%</th>\n",
       "      <td>335.00</td>\n",
       "      <td>208,721.48</td>\n",
       "      <td>0.00</td>\n",
       "      <td>0.00</td>\n",
       "    </tr>\n",
       "    <tr>\n",
       "      <th>max</th>\n",
       "      <td>743.00</td>\n",
       "      <td>92,445,516.64</td>\n",
       "      <td>1.00</td>\n",
       "      <td>1.00</td>\n",
       "    </tr>\n",
       "  </tbody>\n",
       "</table>\n",
       "</div>"
      ],
      "text/plain": [
       "              step        amount      isFraud  isFlaggedFraud\n",
       "count 6,362,620.00  6,362,620.00 6,362,620.00    6,362,620.00\n",
       "mean        243.40    179,861.90         0.00            0.00\n",
       "std         142.33    603,858.23         0.04            0.00\n",
       "min           1.00          0.00         0.00            0.00\n",
       "25%         156.00     13,389.57         0.00            0.00\n",
       "50%         239.00     74,871.94         0.00            0.00\n",
       "75%         335.00    208,721.48         0.00            0.00\n",
       "max         743.00 92,445,516.64         1.00            1.00"
      ]
     },
     "execution_count": 43,
     "metadata": {},
     "output_type": "execute_result"
    }
   ],
   "source": [
    "df.describe()"
   ]
  },
  {
   "cell_type": "code",
   "execution_count": 44,
   "id": "773ffe20",
   "metadata": {},
   "outputs": [
    {
     "data": {
      "text/plain": [
       "step              0\n",
       "type              0\n",
       "amount            0\n",
       "nameOrig          0\n",
       "nameDest          0\n",
       "isFraud           0\n",
       "isFlaggedFraud    0\n",
       "dtype: int64"
      ]
     },
     "execution_count": 44,
     "metadata": {},
     "output_type": "execute_result"
    }
   ],
   "source": [
    "df.isnull().sum()"
   ]
  },
  {
   "cell_type": "code",
   "execution_count": 45,
   "id": "4b1ec648",
   "metadata": {},
   "outputs": [
    {
     "data": {
      "text/plain": [
       "0"
      ]
     },
     "execution_count": 45,
     "metadata": {},
     "output_type": "execute_result"
    }
   ],
   "source": [
    "df.duplicated().sum()"
   ]
  },
  {
   "cell_type": "markdown",
   "id": "5afdc23e",
   "metadata": {},
   "source": [
    "##### __EDA__"
   ]
  },
  {
   "cell_type": "code",
   "execution_count": 46,
   "id": "3003c507",
   "metadata": {},
   "outputs": [
    {
     "name": "stdout",
     "output_type": "stream",
     "text": [
      "isFraud\n",
      "0    6354407\n",
      "1       8213\n",
      "Name: count, dtype: int64\n",
      "\n",
      "0.1291% fraudulent\n",
      "\n",
      "isFlaggedFraud\n",
      "0    6362604\n",
      "1         16\n",
      "Name: count, dtype: int64\n",
      "\n",
      "0.0003% flagged fraudulent\n",
      "\n"
     ]
    }
   ],
   "source": [
    "print(df.isFraud.value_counts())\n",
    "print(f\"\\n{round((df.isFraud.value_counts()[1] / df.shape[0]) * 100, 4)}% fraudulent\\n\")\n",
    "\n",
    "print(df.isFlaggedFraud.value_counts())\n",
    "print(f\"\\n{round((df.isFlaggedFraud.value_counts()[1] / df.shape[0]) * 100, 4)}% flagged fraudulent\\n\")"
   ]
  },
  {
   "cell_type": "code",
   "execution_count": 47,
   "id": "91df4abc",
   "metadata": {},
   "outputs": [
    {
     "data": {
      "image/png": "[encoded data removed]",
      "text/plain": [
       "<Figure size 640x480 with 1 Axes>"
      ]
     },
     "metadata": {},
     "output_type": "display_data"
    }
   ],
   "source": [
    "df['type'].value_counts().plot(kind='bar')\n",
    "plt.show()"
   ]
  },
  {
   "cell_type": "code",
   "execution_count": 48,
   "id": "d664617f",
   "metadata": {},
   "outputs": [
    {
     "data": {
      "text/html": [
       "<div>\n",
       "<style scoped>\n",
       "    .dataframe tbody tr th:only-of-type {\n",
       "        vertical-align: middle;\n",
       "    }\n",
       "\n",
       "    .dataframe tbody tr th {\n",
       "        vertical-align: top;\n",
       "    }\n",
       "\n",
       "    .dataframe thead th {\n",
       "        text-align: right;\n",
       "    }\n",
       "</style>\n",
       "<table border=\"1\" class=\"dataframe\">\n",
       "  <thead>\n",
       "    <tr style=\"text-align: right;\">\n",
       "      <th></th>\n",
       "      <th>type</th>\n",
       "      <th>isFraud</th>\n",
       "      <th>isFlaggedFraud</th>\n",
       "    </tr>\n",
       "  </thead>\n",
       "  <tbody>\n",
       "    <tr>\n",
       "      <th>0</th>\n",
       "      <td>CASH_IN</td>\n",
       "      <td>0</td>\n",
       "      <td>0</td>\n",
       "    </tr>\n",
       "    <tr>\n",
       "      <th>1</th>\n",
       "      <td>CASH_OUT</td>\n",
       "      <td>4116</td>\n",
       "      <td>0</td>\n",
       "    </tr>\n",
       "    <tr>\n",
       "      <th>2</th>\n",
       "      <td>DEBIT</td>\n",
       "      <td>0</td>\n",
       "      <td>0</td>\n",
       "    </tr>\n",
       "    <tr>\n",
       "      <th>3</th>\n",
       "      <td>PAYMENT</td>\n",
       "      <td>0</td>\n",
       "      <td>0</td>\n",
       "    </tr>\n",
       "    <tr>\n",
       "      <th>4</th>\n",
       "      <td>TRANSFER</td>\n",
       "      <td>4097</td>\n",
       "      <td>16</td>\n",
       "    </tr>\n",
       "  </tbody>\n",
       "</table>\n",
       "</div>"
      ],
      "text/plain": [
       "       type  isFraud  isFlaggedFraud\n",
       "0   CASH_IN        0               0\n",
       "1  CASH_OUT     4116               0\n",
       "2     DEBIT        0               0\n",
       "3   PAYMENT        0               0\n",
       "4  TRANSFER     4097              16"
      ]
     },
     "execution_count": 48,
     "metadata": {},
     "output_type": "execute_result"
    }
   ],
   "source": [
    "df_grouped = df.groupby(by=[\"type\"]).agg({\"isFraud\": \"sum\", \"isFlaggedFraud\": \"sum\"}).reset_index()\n",
    "df_grouped "
   ]
  },
  {
   "cell_type": "code",
   "execution_count": 49,
   "id": "4e3df772",
   "metadata": {},
   "outputs": [
    {
     "data": {
      "image/png": "[encoded data removed]",
      "text/plain": [
       "<Figure size 640x480 with 1 Axes>"
      ]
     },
     "metadata": {},
     "output_type": "display_data"
    }
   ],
   "source": [
    "df_grouped = df.groupby(by=[\"type\"]).agg({\"isFraud\": \"mean\"}).sort_values(by=\"isFraud\", ascending=False).reset_index()\n",
    "plt.bar(df_grouped['type'], df_grouped['isFraud'])\n",
    "plt.title('Proportion of Fraud per Transaction Type')\n",
    "plt.tight_layout()\n",
    "plt.show() "
   ]
  },
  {
   "cell_type": "markdown",
   "id": "9f489044",
   "metadata": {},
   "source": [
    "Fraud only occurs in transaction types cash out and transfer."
   ]
  },
  {
   "cell_type": "code",
   "execution_count": 50,
   "id": "d88dde92",
   "metadata": {},
   "outputs": [
    {
     "data": {
      "text/plain": [
       "count    6,362,620.00\n",
       "mean       179,861.90\n",
       "std        603,858.23\n",
       "min              0.00\n",
       "25%         13,389.57\n",
       "50%         74,871.94\n",
       "75%        208,721.48\n",
       "max     92,445,516.64\n",
       "Name: amount, dtype: float64"
      ]
     },
     "execution_count": 50,
     "metadata": {},
     "output_type": "execute_result"
    }
   ],
   "source": [
    "df[\"amount\"].describe()"
   ]
  },
  {
   "cell_type": "code",
   "execution_count": 51,
   "id": "994486aa",
   "metadata": {},
   "outputs": [
    {
     "data": {
      "text/plain": [
       "count        8,213.00\n",
       "mean     1,467,967.30\n",
       "std      2,404,252.95\n",
       "min              0.00\n",
       "25%        127,091.33\n",
       "50%        441,423.44\n",
       "75%      1,517,771.48\n",
       "max     10,000,000.00\n",
       "Name: amount, dtype: float64"
      ]
     },
     "execution_count": 51,
     "metadata": {},
     "output_type": "execute_result"
    }
   ],
   "source": [
    "df[df[\"isFraud\"]==1][\"amount\"].describe()"
   ]
  },
  {
   "cell_type": "code",
   "execution_count": 52,
   "id": "039eee6a",
   "metadata": {},
   "outputs": [
    {
     "data": {
      "text/plain": [
       "count           16.00\n",
       "mean     4,861,597.73\n",
       "std      3,572,499.10\n",
       "min        353,874.22\n",
       "25%      2,242,748.72\n",
       "50%      4,234,245.09\n",
       "75%      7,883,451.38\n",
       "max     10,000,000.00\n",
       "Name: amount, dtype: float64"
      ]
     },
     "execution_count": 52,
     "metadata": {},
     "output_type": "execute_result"
    }
   ],
   "source": [
    "df[df[\"isFlaggedFraud\"]==1][\"amount\"].describe()"
   ]
  },
  {
   "cell_type": "markdown",
   "id": "05b938fd",
   "metadata": {},
   "source": [
    "Flagged fraud has minimum 353,874.22 and only appears under the transfer transaction type, indicating that this is a flag for high transfer amounts."
   ]
  },
  {
   "cell_type": "code",
   "execution_count": 53,
   "id": "e3d41202",
   "metadata": {},
   "outputs": [
    {
     "data": {
      "image/png": "[encoded data removed]",
      "text/plain": [
       "<Figure size 1500x1000 with 6 Axes>"
      ]
     },
     "metadata": {},
     "output_type": "display_data"
    }
   ],
   "source": [
    "fig, ax = plt.subplots(2, 3, figsize=(15, 10))\n",
    "\n",
    "sns.kdeplot(df[(df[\"type\"]==\"TRANSFER\") & (df[\"isFraud\"]==0)], x=\"amount\", fill=True, alpha=0.3, ax=ax[0][0])\n",
    "ax[0][0].set_title(\"Legitimate Transfer Amounts\")\n",
    "ax[0][0].set_xlim(0, 1.5e7)\n",
    "\n",
    "sns.kdeplot(df[(df[\"type\"]==\"CASH_OUT\") & (df[\"isFraud\"]==0)], x=\"amount\", fill=True, alpha=0.3, ax=ax[1][0])\n",
    "ax[1][0].set_title(\"Legitimate Cash Out Amounts\")\n",
    "ax[1][0].set_xlim(0, 0.11e7)\n",
    "\n",
    "sns.kdeplot(df[(df[\"type\"]==\"TRANSFER\") & (df[\"isFraud\"]==1)], x=\"amount\", fill=True, color=\"orange\", alpha=0.3, ax=ax[0][1])\n",
    "ax[0][1].set_title(\"Fraudulent Transfer Amounts\")\n",
    "ax[0][1].set_xlim(0, 1.5e7)\n",
    "\n",
    "sns.kdeplot(df[(df[\"type\"]==\"CASH_OUT\") & (df[\"isFraud\"]==1)], x=\"amount\", fill=True, color=\"orange\", alpha=0.3, ax=ax[1][1])\n",
    "ax[1][1].set_title(\"Fraudulent Cash Out Amounts\")\n",
    "ax[1][1].set_xlim(0, 1.5e7)\n",
    "\n",
    "sns.kdeplot(df[(df[\"type\"]==\"TRANSFER\") & (df[\"isFraud\"]==0)], x=\"amount\", fill=True, alpha=0.3, ax=ax[0][2], label='Legitimate')\n",
    "sns.kdeplot(df[(df[\"type\"]==\"TRANSFER\") & (df[\"isFraud\"]==1)], x=\"amount\", fill=True, color=\"orange\", alpha=0.3, ax=ax[0][2], label='Fraudulent')\n",
    "ax[0][2].legend(loc=\"upper right\")\n",
    "ax[0][2].set_title(\"Transfer Amounts\")\n",
    "ax[0][2].set_xlim(0, 1.5e7)\n",
    "\n",
    "sns.kdeplot(df[(df[\"type\"]==\"CASH_OUT\") & (df[\"isFraud\"]==0)], x=\"amount\", fill=True, alpha=0.3, ax=ax[1][2], label='Legitimate')\n",
    "sns.kdeplot(df[(df[\"type\"]==\"CASH_OUT\") & (df[\"isFraud\"]==1)], x=\"amount\", fill=True, color=\"orange\", alpha=0.3, ax=ax[1][2], label='Fraudulent')\n",
    "ax[1][2].legend(loc=\"upper right\")\n",
    "ax[1][2].set_title(\"Cash Out Amounts\")\n",
    "ax[1][2].set_xlim(0, 1.5e7)\n",
    "\n",
    "plt.subplots_adjust(hspace=0.4, wspace=0.2)\n",
    "plt.suptitle(\"Density Plots\", y=0.945)\n",
    "\n",
    "plt.show()"
   ]
  },
  {
   "cell_type": "code",
   "execution_count": 54,
   "id": "8897e2b2",
   "metadata": {},
   "outputs": [
    {
     "data": {
      "image/png": "[encoded data removed]",
      "text/plain": [
       "<Figure size 640x480 with 1 Axes>"
      ]
     },
     "metadata": {},
     "output_type": "display_data"
    }
   ],
   "source": [
    "sns.kdeplot(df[(df[\"type\"]==\"TRANSFER\") & (df[\"isFraud\"]==1)], x=\"amount\", fill=True, alpha=0.3, label='Fraudulent Transfer Amounts')\n",
    "sns.kdeplot(df[(df[\"type\"]==\"CASH_OUT\") & (df[\"isFraud\"]==1)], x=\"amount\", fill=True, color=\"orange\", alpha=0.3, label='Fraudulent Cash Out Amounts')\n",
    "plt.title(\"Transfer vs Cash Out Fraudulent Amounts\")\n",
    "plt.legend(loc=\"upper right\")\n",
    "plt.xlim(0, 1.5e7)\n",
    "plt.show()"
   ]
  },
  {
   "cell_type": "markdown",
   "id": "fb006f84",
   "metadata": {},
   "source": [
    "Similar densities across both fraudulent transfer and cashout transactions"
   ]
  },
  {
   "cell_type": "code",
   "execution_count": 55,
   "id": "bdfec139",
   "metadata": {},
   "outputs": [],
   "source": [
    "# sns.kdeplot(np.log1p(df[\"amount\"]), fill=True, alpha=0.3)\n",
    "# plt.show()\n",
    "\n",
    "# sns.kdeplot(np.log1p(df[(df[\"type\"]==\"TRANSFER\") & (df[\"isFraud\"]==0)][\"amount\"]), fill=True, alpha=0.3)\n",
    "# plt.show()"
   ]
  },
  {
   "cell_type": "markdown",
   "id": "18c33621",
   "metadata": {},
   "source": [
    "##### __Preprocessing__"
   ]
  },
  {
   "cell_type": "code",
   "execution_count": 56,
   "id": "27e649fe",
   "metadata": {},
   "outputs": [
    {
     "data": {
      "text/html": [
       "<div>\n",
       "<style scoped>\n",
       "    .dataframe tbody tr th:only-of-type {\n",
       "        vertical-align: middle;\n",
       "    }\n",
       "\n",
       "    .dataframe tbody tr th {\n",
       "        vertical-align: top;\n",
       "    }\n",
       "\n",
       "    .dataframe thead th {\n",
       "        text-align: right;\n",
       "    }\n",
       "</style>\n",
       "<table border=\"1\" class=\"dataframe\">\n",
       "  <thead>\n",
       "    <tr style=\"text-align: right;\">\n",
       "      <th></th>\n",
       "      <th>step</th>\n",
       "      <th>type</th>\n",
       "      <th>amount</th>\n",
       "      <th>isFraud</th>\n",
       "      <th>isFlaggedFraud</th>\n",
       "    </tr>\n",
       "  </thead>\n",
       "  <tbody>\n",
       "    <tr>\n",
       "      <th>0</th>\n",
       "      <td>1</td>\n",
       "      <td>PAYMENT</td>\n",
       "      <td>9,839.64</td>\n",
       "      <td>0</td>\n",
       "      <td>0</td>\n",
       "    </tr>\n",
       "    <tr>\n",
       "      <th>1</th>\n",
       "      <td>1</td>\n",
       "      <td>PAYMENT</td>\n",
       "      <td>1,864.28</td>\n",
       "      <td>0</td>\n",
       "      <td>0</td>\n",
       "    </tr>\n",
       "    <tr>\n",
       "      <th>2</th>\n",
       "      <td>1</td>\n",
       "      <td>TRANSFER</td>\n",
       "      <td>181.00</td>\n",
       "      <td>1</td>\n",
       "      <td>0</td>\n",
       "    </tr>\n",
       "    <tr>\n",
       "      <th>3</th>\n",
       "      <td>1</td>\n",
       "      <td>CASH_OUT</td>\n",
       "      <td>181.00</td>\n",
       "      <td>1</td>\n",
       "      <td>0</td>\n",
       "    </tr>\n",
       "    <tr>\n",
       "      <th>4</th>\n",
       "      <td>1</td>\n",
       "      <td>PAYMENT</td>\n",
       "      <td>11,668.14</td>\n",
       "      <td>0</td>\n",
       "      <td>0</td>\n",
       "    </tr>\n",
       "  </tbody>\n",
       "</table>\n",
       "</div>"
      ],
      "text/plain": [
       "   step      type    amount  isFraud  isFlaggedFraud\n",
       "0     1   PAYMENT  9,839.64        0               0\n",
       "1     1   PAYMENT  1,864.28        0               0\n",
       "2     1  TRANSFER    181.00        1               0\n",
       "3     1  CASH_OUT    181.00        1               0\n",
       "4     1   PAYMENT 11,668.14        0               0"
      ]
     },
     "execution_count": 56,
     "metadata": {},
     "output_type": "execute_result"
    }
   ],
   "source": [
    "df_reduced = df.copy() \n",
    "df_reduced = df_reduced.drop(columns=[\"nameOrig\", \"nameDest\"]) \n",
    "df_reduced.head() "
   ]
  },
  {
   "cell_type": "code",
   "execution_count": 57,
   "id": "9e3b9513",
   "metadata": {},
   "outputs": [
    {
     "data": {
      "text/html": [
       "<div>\n",
       "<style scoped>\n",
       "    .dataframe tbody tr th:only-of-type {\n",
       "        vertical-align: middle;\n",
       "    }\n",
       "\n",
       "    .dataframe tbody tr th {\n",
       "        vertical-align: top;\n",
       "    }\n",
       "\n",
       "    .dataframe thead th {\n",
       "        text-align: right;\n",
       "    }\n",
       "</style>\n",
       "<table border=\"1\" class=\"dataframe\">\n",
       "  <thead>\n",
       "    <tr style=\"text-align: right;\">\n",
       "      <th></th>\n",
       "      <th>step</th>\n",
       "      <th>amount</th>\n",
       "      <th>isFraud</th>\n",
       "      <th>isFlaggedFraud</th>\n",
       "      <th>CASH_IN</th>\n",
       "      <th>CASH_OUT</th>\n",
       "      <th>DEBIT</th>\n",
       "      <th>PAYMENT</th>\n",
       "      <th>TRANSFER</th>\n",
       "    </tr>\n",
       "  </thead>\n",
       "  <tbody>\n",
       "    <tr>\n",
       "      <th>0</th>\n",
       "      <td>1</td>\n",
       "      <td>9,839.64</td>\n",
       "      <td>0</td>\n",
       "      <td>0</td>\n",
       "      <td>0</td>\n",
       "      <td>0</td>\n",
       "      <td>0</td>\n",
       "      <td>1</td>\n",
       "      <td>0</td>\n",
       "    </tr>\n",
       "    <tr>\n",
       "      <th>1</th>\n",
       "      <td>1</td>\n",
       "      <td>1,864.28</td>\n",
       "      <td>0</td>\n",
       "      <td>0</td>\n",
       "      <td>0</td>\n",
       "      <td>0</td>\n",
       "      <td>0</td>\n",
       "      <td>1</td>\n",
       "      <td>0</td>\n",
       "    </tr>\n",
       "    <tr>\n",
       "      <th>2</th>\n",
       "      <td>1</td>\n",
       "      <td>181.00</td>\n",
       "      <td>1</td>\n",
       "      <td>0</td>\n",
       "      <td>0</td>\n",
       "      <td>0</td>\n",
       "      <td>0</td>\n",
       "      <td>0</td>\n",
       "      <td>1</td>\n",
       "    </tr>\n",
       "    <tr>\n",
       "      <th>3</th>\n",
       "      <td>1</td>\n",
       "      <td>181.00</td>\n",
       "      <td>1</td>\n",
       "      <td>0</td>\n",
       "      <td>0</td>\n",
       "      <td>1</td>\n",
       "      <td>0</td>\n",
       "      <td>0</td>\n",
       "      <td>0</td>\n",
       "    </tr>\n",
       "    <tr>\n",
       "      <th>4</th>\n",
       "      <td>1</td>\n",
       "      <td>11,668.14</td>\n",
       "      <td>0</td>\n",
       "      <td>0</td>\n",
       "      <td>0</td>\n",
       "      <td>0</td>\n",
       "      <td>0</td>\n",
       "      <td>1</td>\n",
       "      <td>0</td>\n",
       "    </tr>\n",
       "  </tbody>\n",
       "</table>\n",
       "</div>"
      ],
      "text/plain": [
       "   step    amount  isFraud  isFlaggedFraud  CASH_IN  CASH_OUT  DEBIT  PAYMENT  \\\n",
       "0     1  9,839.64        0               0        0         0      0        1   \n",
       "1     1  1,864.28        0               0        0         0      0        1   \n",
       "2     1    181.00        1               0        0         0      0        0   \n",
       "3     1    181.00        1               0        0         1      0        0   \n",
       "4     1 11,668.14        0               0        0         0      0        1   \n",
       "\n",
       "   TRANSFER  \n",
       "0         0  \n",
       "1         0  \n",
       "2         1  \n",
       "3         0  \n",
       "4         0  "
      ]
     },
     "execution_count": 57,
     "metadata": {},
     "output_type": "execute_result"
    }
   ],
   "source": [
    "df_encoded = df_reduced.copy()\n",
    "df_dummies = pd.get_dummies(df_encoded['type']).astype(int) #.astype('category').cat.codes\n",
    "df_encoded = pd.merge(df_encoded, df_dummies, left_index=True, right_index=True).drop(columns=[\"type\"])\n",
    "df_encoded.head()"
   ]
  },
  {
   "cell_type": "code",
   "execution_count": 58,
   "id": "7d67b889",
   "metadata": {},
   "outputs": [],
   "source": [
    "# corr_mat = df_encoded.corr()\n",
    "# plt.figure(figsize=(8, 6))\n",
    "# sns.heatmap(corr_mat, annot=True, cmap='coolwarm', fmt=\".2f\")\n",
    "# plt.title('Correlation Matrix')\n",
    "# plt.show()"
   ]
  },
  {
   "cell_type": "code",
   "execution_count": 59,
   "id": "0c9feb0c",
   "metadata": {},
   "outputs": [
    {
     "data": {
      "text/html": [
       "<div>\n",
       "<style scoped>\n",
       "    .dataframe tbody tr th:only-of-type {\n",
       "        vertical-align: middle;\n",
       "    }\n",
       "\n",
       "    .dataframe tbody tr th {\n",
       "        vertical-align: top;\n",
       "    }\n",
       "\n",
       "    .dataframe thead th {\n",
       "        text-align: right;\n",
       "    }\n",
       "</style>\n",
       "<table border=\"1\" class=\"dataframe\">\n",
       "  <thead>\n",
       "    <tr style=\"text-align: right;\">\n",
       "      <th></th>\n",
       "      <th>step</th>\n",
       "      <th>amount</th>\n",
       "      <th>isFraud</th>\n",
       "      <th>isFlaggedFraud</th>\n",
       "      <th>CASH_IN</th>\n",
       "      <th>CASH_OUT</th>\n",
       "      <th>DEBIT</th>\n",
       "      <th>PAYMENT</th>\n",
       "      <th>TRANSFER</th>\n",
       "      <th>hour</th>\n",
       "      <th>day</th>\n",
       "    </tr>\n",
       "  </thead>\n",
       "  <tbody>\n",
       "    <tr>\n",
       "      <th>0</th>\n",
       "      <td>1</td>\n",
       "      <td>9,839.64</td>\n",
       "      <td>0</td>\n",
       "      <td>0</td>\n",
       "      <td>0</td>\n",
       "      <td>0</td>\n",
       "      <td>0</td>\n",
       "      <td>1</td>\n",
       "      <td>0</td>\n",
       "      <td>1</td>\n",
       "      <td>0</td>\n",
       "    </tr>\n",
       "    <tr>\n",
       "      <th>1</th>\n",
       "      <td>1</td>\n",
       "      <td>1,864.28</td>\n",
       "      <td>0</td>\n",
       "      <td>0</td>\n",
       "      <td>0</td>\n",
       "      <td>0</td>\n",
       "      <td>0</td>\n",
       "      <td>1</td>\n",
       "      <td>0</td>\n",
       "      <td>1</td>\n",
       "      <td>0</td>\n",
       "    </tr>\n",
       "    <tr>\n",
       "      <th>2</th>\n",
       "      <td>1</td>\n",
       "      <td>181.00</td>\n",
       "      <td>1</td>\n",
       "      <td>0</td>\n",
       "      <td>0</td>\n",
       "      <td>0</td>\n",
       "      <td>0</td>\n",
       "      <td>0</td>\n",
       "      <td>1</td>\n",
       "      <td>1</td>\n",
       "      <td>0</td>\n",
       "    </tr>\n",
       "    <tr>\n",
       "      <th>3</th>\n",
       "      <td>1</td>\n",
       "      <td>181.00</td>\n",
       "      <td>1</td>\n",
       "      <td>0</td>\n",
       "      <td>0</td>\n",
       "      <td>1</td>\n",
       "      <td>0</td>\n",
       "      <td>0</td>\n",
       "      <td>0</td>\n",
       "      <td>1</td>\n",
       "      <td>0</td>\n",
       "    </tr>\n",
       "    <tr>\n",
       "      <th>4</th>\n",
       "      <td>1</td>\n",
       "      <td>11,668.14</td>\n",
       "      <td>0</td>\n",
       "      <td>0</td>\n",
       "      <td>0</td>\n",
       "      <td>0</td>\n",
       "      <td>0</td>\n",
       "      <td>1</td>\n",
       "      <td>0</td>\n",
       "      <td>1</td>\n",
       "      <td>0</td>\n",
       "    </tr>\n",
       "  </tbody>\n",
       "</table>\n",
       "</div>"
      ],
      "text/plain": [
       "   step    amount  isFraud  isFlaggedFraud  CASH_IN  CASH_OUT  DEBIT  PAYMENT  \\\n",
       "0     1  9,839.64        0               0        0         0      0        1   \n",
       "1     1  1,864.28        0               0        0         0      0        1   \n",
       "2     1    181.00        1               0        0         0      0        0   \n",
       "3     1    181.00        1               0        0         1      0        0   \n",
       "4     1 11,668.14        0               0        0         0      0        1   \n",
       "\n",
       "   TRANSFER  hour  day  \n",
       "0         0     1    0  \n",
       "1         0     1    0  \n",
       "2         1     1    0  \n",
       "3         0     1    0  \n",
       "4         0     1    0  "
      ]
     },
     "execution_count": 59,
     "metadata": {},
     "output_type": "execute_result"
    }
   ],
   "source": [
    "df_feat_eng = df_encoded.copy()\n",
    "df_feat_eng['hour'] = df_feat_eng['step'] % 24\n",
    "df_feat_eng['day'] = df_feat_eng['step'] // 24\n",
    "df_feat_eng.head()"
   ]
  },
  {
   "cell_type": "markdown",
   "id": "b063c211",
   "metadata": {},
   "source": [
    "##### __Build Model - Assume Unlabelled__"
   ]
  },
  {
   "cell_type": "code",
   "execution_count": 60,
   "id": "d4687791",
   "metadata": {},
   "outputs": [
    {
     "data": {
      "text/html": [
       "<div>\n",
       "<style scoped>\n",
       "    .dataframe tbody tr th:only-of-type {\n",
       "        vertical-align: middle;\n",
       "    }\n",
       "\n",
       "    .dataframe tbody tr th {\n",
       "        vertical-align: top;\n",
       "    }\n",
       "\n",
       "    .dataframe thead th {\n",
       "        text-align: right;\n",
       "    }\n",
       "</style>\n",
       "<table border=\"1\" class=\"dataframe\">\n",
       "  <thead>\n",
       "    <tr style=\"text-align: right;\">\n",
       "      <th></th>\n",
       "      <th>amount</th>\n",
       "      <th>CASH_IN</th>\n",
       "      <th>CASH_OUT</th>\n",
       "      <th>DEBIT</th>\n",
       "      <th>PAYMENT</th>\n",
       "      <th>TRANSFER</th>\n",
       "      <th>hour</th>\n",
       "      <th>day</th>\n",
       "    </tr>\n",
       "  </thead>\n",
       "  <tbody>\n",
       "    <tr>\n",
       "      <th>0</th>\n",
       "      <td>9,839.64</td>\n",
       "      <td>0</td>\n",
       "      <td>0</td>\n",
       "      <td>0</td>\n",
       "      <td>1</td>\n",
       "      <td>0</td>\n",
       "      <td>1</td>\n",
       "      <td>0</td>\n",
       "    </tr>\n",
       "    <tr>\n",
       "      <th>1</th>\n",
       "      <td>1,864.28</td>\n",
       "      <td>0</td>\n",
       "      <td>0</td>\n",
       "      <td>0</td>\n",
       "      <td>1</td>\n",
       "      <td>0</td>\n",
       "      <td>1</td>\n",
       "      <td>0</td>\n",
       "    </tr>\n",
       "    <tr>\n",
       "      <th>2</th>\n",
       "      <td>181.00</td>\n",
       "      <td>0</td>\n",
       "      <td>0</td>\n",
       "      <td>0</td>\n",
       "      <td>0</td>\n",
       "      <td>1</td>\n",
       "      <td>1</td>\n",
       "      <td>0</td>\n",
       "    </tr>\n",
       "    <tr>\n",
       "      <th>3</th>\n",
       "      <td>181.00</td>\n",
       "      <td>0</td>\n",
       "      <td>1</td>\n",
       "      <td>0</td>\n",
       "      <td>0</td>\n",
       "      <td>0</td>\n",
       "      <td>1</td>\n",
       "      <td>0</td>\n",
       "    </tr>\n",
       "    <tr>\n",
       "      <th>4</th>\n",
       "      <td>11,668.14</td>\n",
       "      <td>0</td>\n",
       "      <td>0</td>\n",
       "      <td>0</td>\n",
       "      <td>1</td>\n",
       "      <td>0</td>\n",
       "      <td>1</td>\n",
       "      <td>0</td>\n",
       "    </tr>\n",
       "    <tr>\n",
       "      <th>...</th>\n",
       "      <td>...</td>\n",
       "      <td>...</td>\n",
       "      <td>...</td>\n",
       "      <td>...</td>\n",
       "      <td>...</td>\n",
       "      <td>...</td>\n",
       "      <td>...</td>\n",
       "      <td>...</td>\n",
       "    </tr>\n",
       "    <tr>\n",
       "      <th>6362615</th>\n",
       "      <td>339,682.13</td>\n",
       "      <td>0</td>\n",
       "      <td>1</td>\n",
       "      <td>0</td>\n",
       "      <td>0</td>\n",
       "      <td>0</td>\n",
       "      <td>23</td>\n",
       "      <td>30</td>\n",
       "    </tr>\n",
       "    <tr>\n",
       "      <th>6362616</th>\n",
       "      <td>6,311,409.28</td>\n",
       "      <td>0</td>\n",
       "      <td>0</td>\n",
       "      <td>0</td>\n",
       "      <td>0</td>\n",
       "      <td>1</td>\n",
       "      <td>23</td>\n",
       "      <td>30</td>\n",
       "    </tr>\n",
       "    <tr>\n",
       "      <th>6362617</th>\n",
       "      <td>6,311,409.28</td>\n",
       "      <td>0</td>\n",
       "      <td>1</td>\n",
       "      <td>0</td>\n",
       "      <td>0</td>\n",
       "      <td>0</td>\n",
       "      <td>23</td>\n",
       "      <td>30</td>\n",
       "    </tr>\n",
       "    <tr>\n",
       "      <th>6362618</th>\n",
       "      <td>850,002.52</td>\n",
       "      <td>0</td>\n",
       "      <td>0</td>\n",
       "      <td>0</td>\n",
       "      <td>0</td>\n",
       "      <td>1</td>\n",
       "      <td>23</td>\n",
       "      <td>30</td>\n",
       "    </tr>\n",
       "    <tr>\n",
       "      <th>6362619</th>\n",
       "      <td>850,002.52</td>\n",
       "      <td>0</td>\n",
       "      <td>1</td>\n",
       "      <td>0</td>\n",
       "      <td>0</td>\n",
       "      <td>0</td>\n",
       "      <td>23</td>\n",
       "      <td>30</td>\n",
       "    </tr>\n",
       "  </tbody>\n",
       "</table>\n",
       "<p>6362620 rows × 8 columns</p>\n",
       "</div>"
      ],
      "text/plain": [
       "              amount  CASH_IN  CASH_OUT  DEBIT  PAYMENT  TRANSFER  hour  day\n",
       "0           9,839.64        0         0      0        1         0     1    0\n",
       "1           1,864.28        0         0      0        1         0     1    0\n",
       "2             181.00        0         0      0        0         1     1    0\n",
       "3             181.00        0         1      0        0         0     1    0\n",
       "4          11,668.14        0         0      0        1         0     1    0\n",
       "...              ...      ...       ...    ...      ...       ...   ...  ...\n",
       "6362615   339,682.13        0         1      0        0         0    23   30\n",
       "6362616 6,311,409.28        0         0      0        0         1    23   30\n",
       "6362617 6,311,409.28        0         1      0        0         0    23   30\n",
       "6362618   850,002.52        0         0      0        0         1    23   30\n",
       "6362619   850,002.52        0         1      0        0         0    23   30\n",
       "\n",
       "[6362620 rows x 8 columns]"
      ]
     },
     "execution_count": 60,
     "metadata": {},
     "output_type": "execute_result"
    }
   ],
   "source": [
    "df_model = df_model_copy = df_feat_eng.copy()\n",
    "df_model = df_model.drop(columns=[\"step\", \"isFraud\", \"isFlaggedFraud\"])\n",
    "df_model"
   ]
  },
  {
   "cell_type": "code",
   "execution_count": 61,
   "id": "33626edd",
   "metadata": {},
   "outputs": [
    {
     "data": {
      "text/plain": [
       "array([[1.06437179e-04, 0.00000000e+00, 0.00000000e+00, ...,\n",
       "        0.00000000e+00, 4.34782609e-02, 0.00000000e+00],\n",
       "       [2.01662565e-05, 0.00000000e+00, 0.00000000e+00, ...,\n",
       "        0.00000000e+00, 4.34782609e-02, 0.00000000e+00],\n",
       "       [1.95790998e-06, 0.00000000e+00, 0.00000000e+00, ...,\n",
       "        1.00000000e+00, 4.34782609e-02, 0.00000000e+00],\n",
       "       ...,\n",
       "       [6.82716643e-02, 0.00000000e+00, 1.00000000e+00, ...,\n",
       "        0.00000000e+00, 1.00000000e+00, 1.00000000e+00],\n",
       "       [9.19463216e-03, 0.00000000e+00, 0.00000000e+00, ...,\n",
       "        1.00000000e+00, 1.00000000e+00, 1.00000000e+00],\n",
       "       [9.19463216e-03, 0.00000000e+00, 1.00000000e+00, ...,\n",
       "        0.00000000e+00, 1.00000000e+00, 1.00000000e+00]])"
      ]
     },
     "execution_count": 61,
     "metadata": {},
     "output_type": "execute_result"
    }
   ],
   "source": [
    "scaler = MinMaxScaler()\n",
    "df_scaled = scaler.fit_transform(df_model)\n",
    "df_scaled"
   ]
  },
  {
   "cell_type": "markdown",
   "id": "c69ff3f6",
   "metadata": {},
   "source": [
    "##### ___Isolation Forest___"
   ]
  },
  {
   "cell_type": "code",
   "execution_count": 62,
   "id": "12f4f89d",
   "metadata": {},
   "outputs": [
    {
     "name": "stdout",
     "output_type": "stream",
     "text": [
      "is_anomaly\n",
      "0    6298994\n",
      "1      63626\n",
      "Name: count, dtype: int64\n"
     ]
    }
   ],
   "source": [
    "isolation_forest = IsolationForest(n_estimators=100, contamination=0.01, random_state=42)\n",
    "df_model['anomaly_score'] = isolation_forest.fit_predict(df_scaled)\n",
    "df_model['is_anomaly'] = (df_model['anomaly_score'] == -1).astype(int) #anomalies are usually flagged with -1\n",
    "print(df_model['is_anomaly'].value_counts())  # anomaly count "
   ]
  },
  {
   "cell_type": "code",
   "execution_count": 63,
   "id": "fc3afac0",
   "metadata": {},
   "outputs": [
    {
     "data": {
      "text/html": [
       "<div>\n",
       "<style scoped>\n",
       "    .dataframe tbody tr th:only-of-type {\n",
       "        vertical-align: middle;\n",
       "    }\n",
       "\n",
       "    .dataframe tbody tr th {\n",
       "        vertical-align: top;\n",
       "    }\n",
       "\n",
       "    .dataframe thead th {\n",
       "        text-align: right;\n",
       "    }\n",
       "</style>\n",
       "<table border=\"1\" class=\"dataframe\">\n",
       "  <thead>\n",
       "    <tr style=\"text-align: right;\">\n",
       "      <th></th>\n",
       "      <th>step</th>\n",
       "      <th>amount</th>\n",
       "      <th>isFraud</th>\n",
       "      <th>isFlaggedFraud</th>\n",
       "      <th>CASH_IN</th>\n",
       "      <th>CASH_OUT</th>\n",
       "      <th>DEBIT</th>\n",
       "      <th>PAYMENT</th>\n",
       "      <th>TRANSFER</th>\n",
       "      <th>hour</th>\n",
       "      <th>day</th>\n",
       "      <th>anomaly_score</th>\n",
       "      <th>is_anomaly</th>\n",
       "    </tr>\n",
       "  </thead>\n",
       "  <tbody>\n",
       "    <tr>\n",
       "      <th>0</th>\n",
       "      <td>1</td>\n",
       "      <td>9,839.64</td>\n",
       "      <td>0</td>\n",
       "      <td>0</td>\n",
       "      <td>0</td>\n",
       "      <td>0</td>\n",
       "      <td>0</td>\n",
       "      <td>1</td>\n",
       "      <td>0</td>\n",
       "      <td>1</td>\n",
       "      <td>0</td>\n",
       "      <td>1</td>\n",
       "      <td>0</td>\n",
       "    </tr>\n",
       "    <tr>\n",
       "      <th>1</th>\n",
       "      <td>1</td>\n",
       "      <td>1,864.28</td>\n",
       "      <td>0</td>\n",
       "      <td>0</td>\n",
       "      <td>0</td>\n",
       "      <td>0</td>\n",
       "      <td>0</td>\n",
       "      <td>1</td>\n",
       "      <td>0</td>\n",
       "      <td>1</td>\n",
       "      <td>0</td>\n",
       "      <td>1</td>\n",
       "      <td>0</td>\n",
       "    </tr>\n",
       "    <tr>\n",
       "      <th>2</th>\n",
       "      <td>1</td>\n",
       "      <td>181.00</td>\n",
       "      <td>1</td>\n",
       "      <td>0</td>\n",
       "      <td>0</td>\n",
       "      <td>0</td>\n",
       "      <td>0</td>\n",
       "      <td>0</td>\n",
       "      <td>1</td>\n",
       "      <td>1</td>\n",
       "      <td>0</td>\n",
       "      <td>-1</td>\n",
       "      <td>1</td>\n",
       "    </tr>\n",
       "    <tr>\n",
       "      <th>3</th>\n",
       "      <td>1</td>\n",
       "      <td>181.00</td>\n",
       "      <td>1</td>\n",
       "      <td>0</td>\n",
       "      <td>0</td>\n",
       "      <td>1</td>\n",
       "      <td>0</td>\n",
       "      <td>0</td>\n",
       "      <td>0</td>\n",
       "      <td>1</td>\n",
       "      <td>0</td>\n",
       "      <td>1</td>\n",
       "      <td>0</td>\n",
       "    </tr>\n",
       "    <tr>\n",
       "      <th>4</th>\n",
       "      <td>1</td>\n",
       "      <td>11,668.14</td>\n",
       "      <td>0</td>\n",
       "      <td>0</td>\n",
       "      <td>0</td>\n",
       "      <td>0</td>\n",
       "      <td>0</td>\n",
       "      <td>1</td>\n",
       "      <td>0</td>\n",
       "      <td>1</td>\n",
       "      <td>0</td>\n",
       "      <td>1</td>\n",
       "      <td>0</td>\n",
       "    </tr>\n",
       "  </tbody>\n",
       "</table>\n",
       "</div>"
      ],
      "text/plain": [
       "   step    amount  isFraud  isFlaggedFraud  CASH_IN  CASH_OUT  DEBIT  PAYMENT  \\\n",
       "0     1  9,839.64        0               0        0         0      0        1   \n",
       "1     1  1,864.28        0               0        0         0      0        1   \n",
       "2     1    181.00        1               0        0         0      0        0   \n",
       "3     1    181.00        1               0        0         1      0        0   \n",
       "4     1 11,668.14        0               0        0         0      0        1   \n",
       "\n",
       "   TRANSFER  hour  day  anomaly_score  is_anomaly  \n",
       "0         0     1    0              1           0  \n",
       "1         0     1    0              1           0  \n",
       "2         1     1    0             -1           1  \n",
       "3         0     1    0              1           0  \n",
       "4         0     1    0              1           0  "
      ]
     },
     "execution_count": 63,
     "metadata": {},
     "output_type": "execute_result"
    }
   ],
   "source": [
    "df_isolation_forest = pd.merge(df_feat_eng, df_model[[\"anomaly_score\", \"is_anomaly\"]], left_index=True, right_index=True)\n",
    "df_isolation_forest.head()"
   ]
  },
  {
   "cell_type": "code",
   "execution_count": 64,
   "id": "0fcd39e3",
   "metadata": {},
   "outputs": [
    {
     "name": "stdout",
     "output_type": "stream",
     "text": [
      "Area Under Precision-Recall Curve (AUPRC): 0.0131\n"
     ]
    },
    {
     "data": {
      "image/png": "[encoded data removed]",
      "text/plain": [
       "<Figure size 800x600 with 1 Axes>"
      ]
     },
     "metadata": {},
     "output_type": "display_data"
    }
   ],
   "source": [
    "y_test = (df_isolation_forest['isFraud'] == 1).astype(int)\n",
    "y_pred_prob = -df_isolation_forest['anomaly_score']  #invert the scores (more anomalous = higher probability)\n",
    "\n",
    "# Precision-Recall Curve\n",
    "precision, recall, thresholds = precision_recall_curve(y_test, y_pred_prob)\n",
    "\n",
    "# Area Under the Precision-Recall Curve (AUPRC)\n",
    "auprc = average_precision_score(y_test, y_pred_prob)\n",
    "print(f\"Area Under Precision-Recall Curve (AUPRC): {auprc:.4f}\")\n",
    "\n",
    "# plot\n",
    "plt.figure(figsize=(8, 6))\n",
    "plt.plot(recall, precision, marker='.', label=f\"AUPRC = {auprc:.4f}\")\n",
    "plt.xlabel('Recall')\n",
    "plt.ylabel('Precision')\n",
    "plt.title('Precision-Recall Curve')\n",
    "plt.legend()\n",
    "plt.grid()\n",
    "plt.show() "
   ]
  },
  {
   "cell_type": "markdown",
   "id": "e774fffd",
   "metadata": {},
   "source": [
    "##### ___Isolation Forest (with PCA)___"
   ]
  },
  {
   "cell_type": "code",
   "execution_count": 67,
   "id": "619ebdb2",
   "metadata": {},
   "outputs": [],
   "source": [
    "df_model_isof_pca = df_model_copy.copy()"
   ]
  },
  {
   "cell_type": "code",
   "execution_count": 68,
   "id": "88f2cc47",
   "metadata": {},
   "outputs": [
    {
     "data": {
      "text/plain": [
       "array([[0.00000000e+00, 1.06437179e-04, 0.00000000e+00, ...,\n",
       "        0.00000000e+00, 4.34782609e-02, 0.00000000e+00],\n",
       "       [0.00000000e+00, 2.01662565e-05, 0.00000000e+00, ...,\n",
       "        0.00000000e+00, 4.34782609e-02, 0.00000000e+00],\n",
       "       [0.00000000e+00, 1.95790998e-06, 1.00000000e+00, ...,\n",
       "        1.00000000e+00, 4.34782609e-02, 0.00000000e+00],\n",
       "       ...,\n",
       "       [1.00000000e+00, 6.82716643e-02, 1.00000000e+00, ...,\n",
       "        0.00000000e+00, 1.00000000e+00, 1.00000000e+00],\n",
       "       [1.00000000e+00, 9.19463216e-03, 1.00000000e+00, ...,\n",
       "        1.00000000e+00, 1.00000000e+00, 1.00000000e+00],\n",
       "       [1.00000000e+00, 9.19463216e-03, 1.00000000e+00, ...,\n",
       "        0.00000000e+00, 1.00000000e+00, 1.00000000e+00]])"
      ]
     },
     "execution_count": 68,
     "metadata": {},
     "output_type": "execute_result"
    }
   ],
   "source": [
    "scaler = MinMaxScaler()\n",
    "df_scaled_isof_pca = scaler.fit_transform(df_model_isof_pca)\n",
    "df_scaled_isof_pca"
   ]
  },
  {
   "cell_type": "code",
   "execution_count": 70,
   "id": "278b14eb",
   "metadata": {},
   "outputs": [
    {
     "data": {
      "text/html": [
       "<div>\n",
       "<style scoped>\n",
       "    .dataframe tbody tr th:only-of-type {\n",
       "        vertical-align: middle;\n",
       "    }\n",
       "\n",
       "    .dataframe tbody tr th {\n",
       "        vertical-align: top;\n",
       "    }\n",
       "\n",
       "    .dataframe thead th {\n",
       "        text-align: right;\n",
       "    }\n",
       "</style>\n",
       "<table border=\"1\" class=\"dataframe\">\n",
       "  <thead>\n",
       "    <tr style=\"text-align: right;\">\n",
       "      <th></th>\n",
       "      <th>0</th>\n",
       "      <th>1</th>\n",
       "      <th>2</th>\n",
       "      <th>3</th>\n",
       "      <th>4</th>\n",
       "    </tr>\n",
       "  </thead>\n",
       "  <tbody>\n",
       "    <tr>\n",
       "      <th>0</th>\n",
       "      <td>-0.70</td>\n",
       "      <td>-0.33</td>\n",
       "      <td>-0.09</td>\n",
       "      <td>-0.49</td>\n",
       "      <td>-0.60</td>\n",
       "    </tr>\n",
       "    <tr>\n",
       "      <th>1</th>\n",
       "      <td>-0.70</td>\n",
       "      <td>-0.33</td>\n",
       "      <td>-0.09</td>\n",
       "      <td>-0.49</td>\n",
       "      <td>-0.60</td>\n",
       "    </tr>\n",
       "    <tr>\n",
       "      <th>2</th>\n",
       "      <td>-0.01</td>\n",
       "      <td>0.17</td>\n",
       "      <td>1.05</td>\n",
       "      <td>-0.51</td>\n",
       "      <td>-0.59</td>\n",
       "    </tr>\n",
       "    <tr>\n",
       "      <th>3</th>\n",
       "      <td>0.71</td>\n",
       "      <td>-0.29</td>\n",
       "      <td>-0.08</td>\n",
       "      <td>-0.48</td>\n",
       "      <td>-0.60</td>\n",
       "    </tr>\n",
       "    <tr>\n",
       "      <th>4</th>\n",
       "      <td>-0.70</td>\n",
       "      <td>-0.33</td>\n",
       "      <td>-0.09</td>\n",
       "      <td>-0.49</td>\n",
       "      <td>-0.60</td>\n",
       "    </tr>\n",
       "    <tr>\n",
       "      <th>...</th>\n",
       "      <td>...</td>\n",
       "      <td>...</td>\n",
       "      <td>...</td>\n",
       "      <td>...</td>\n",
       "      <td>...</td>\n",
       "    </tr>\n",
       "    <tr>\n",
       "      <th>6362615</th>\n",
       "      <td>0.70</td>\n",
       "      <td>-0.29</td>\n",
       "      <td>-0.05</td>\n",
       "      <td>0.99</td>\n",
       "      <td>0.27</td>\n",
       "    </tr>\n",
       "    <tr>\n",
       "      <th>6362616</th>\n",
       "      <td>-0.02</td>\n",
       "      <td>0.17</td>\n",
       "      <td>1.07</td>\n",
       "      <td>0.96</td>\n",
       "      <td>0.28</td>\n",
       "    </tr>\n",
       "    <tr>\n",
       "      <th>6362617</th>\n",
       "      <td>0.70</td>\n",
       "      <td>-0.29</td>\n",
       "      <td>-0.05</td>\n",
       "      <td>0.99</td>\n",
       "      <td>0.27</td>\n",
       "    </tr>\n",
       "    <tr>\n",
       "      <th>6362618</th>\n",
       "      <td>-0.02</td>\n",
       "      <td>0.17</td>\n",
       "      <td>1.07</td>\n",
       "      <td>0.96</td>\n",
       "      <td>0.28</td>\n",
       "    </tr>\n",
       "    <tr>\n",
       "      <th>6362619</th>\n",
       "      <td>0.70</td>\n",
       "      <td>-0.29</td>\n",
       "      <td>-0.05</td>\n",
       "      <td>0.99</td>\n",
       "      <td>0.27</td>\n",
       "    </tr>\n",
       "  </tbody>\n",
       "</table>\n",
       "<p>6362620 rows × 5 columns</p>\n",
       "</div>"
      ],
      "text/plain": [
       "            0     1     2     3     4\n",
       "0       -0.70 -0.33 -0.09 -0.49 -0.60\n",
       "1       -0.70 -0.33 -0.09 -0.49 -0.60\n",
       "2       -0.01  0.17  1.05 -0.51 -0.59\n",
       "3        0.71 -0.29 -0.08 -0.48 -0.60\n",
       "4       -0.70 -0.33 -0.09 -0.49 -0.60\n",
       "...       ...   ...   ...   ...   ...\n",
       "6362615  0.70 -0.29 -0.05  0.99  0.27\n",
       "6362616 -0.02  0.17  1.07  0.96  0.28\n",
       "6362617  0.70 -0.29 -0.05  0.99  0.27\n",
       "6362618 -0.02  0.17  1.07  0.96  0.28\n",
       "6362619  0.70 -0.29 -0.05  0.99  0.27\n",
       "\n",
       "[6362620 rows x 5 columns]"
      ]
     },
     "execution_count": 70,
     "metadata": {},
     "output_type": "execute_result"
    }
   ],
   "source": [
    "pca = PCA(n_components=0.95)\n",
    "principal_components = pca.fit_transform(df_scaled_isof_pca)\n",
    "df_isof_pca = pd.DataFrame(data=principal_components)\n",
    "df_isof_pca "
   ]
  },
  {
   "cell_type": "code",
   "execution_count": 73,
   "id": "ef848808",
   "metadata": {},
   "outputs": [
    {
     "name": "stdout",
     "output_type": "stream",
     "text": [
      "is_anomaly\n",
      "0    6299564\n",
      "1      63056\n",
      "Name: count, dtype: int64\n"
     ]
    }
   ],
   "source": [
    "isolation_forest_pca = IsolationForest(n_estimators=100, contamination=0.01, random_state=42)\n",
    "df_model_isof_pca['is_anomaly'] = isolation_forest_pca.fit_predict(df_isof_pca)\n",
    "df_model_isof_pca['is_anomaly'] = (df_model_isof_pca['is_anomaly'] == -1).astype(int) #anomalies are usually flagged with -1\n",
    "df_model_isof_pca['score'] = isolation_forest_pca.decision_function(df_isof_pca)\n",
    "print(df_model_isof_pca['is_anomaly'].value_counts())  # anomaly count "
   ]
  },
  {
   "cell_type": "code",
   "execution_count": 75,
   "id": "307550b4",
   "metadata": {},
   "outputs": [
    {
     "data": {
      "text/html": [
       "<div>\n",
       "<style scoped>\n",
       "    .dataframe tbody tr th:only-of-type {\n",
       "        vertical-align: middle;\n",
       "    }\n",
       "\n",
       "    .dataframe tbody tr th {\n",
       "        vertical-align: top;\n",
       "    }\n",
       "\n",
       "    .dataframe thead th {\n",
       "        text-align: right;\n",
       "    }\n",
       "</style>\n",
       "<table border=\"1\" class=\"dataframe\">\n",
       "  <thead>\n",
       "    <tr style=\"text-align: right;\">\n",
       "      <th></th>\n",
       "      <th>step</th>\n",
       "      <th>amount</th>\n",
       "      <th>isFraud</th>\n",
       "      <th>isFlaggedFraud</th>\n",
       "      <th>CASH_IN</th>\n",
       "      <th>CASH_OUT</th>\n",
       "      <th>DEBIT</th>\n",
       "      <th>PAYMENT</th>\n",
       "      <th>TRANSFER</th>\n",
       "      <th>hour</th>\n",
       "      <th>day</th>\n",
       "      <th>score</th>\n",
       "      <th>is_anomaly</th>\n",
       "    </tr>\n",
       "  </thead>\n",
       "  <tbody>\n",
       "    <tr>\n",
       "      <th>0</th>\n",
       "      <td>1</td>\n",
       "      <td>9,839.64</td>\n",
       "      <td>0</td>\n",
       "      <td>0</td>\n",
       "      <td>0</td>\n",
       "      <td>0</td>\n",
       "      <td>0</td>\n",
       "      <td>1</td>\n",
       "      <td>0</td>\n",
       "      <td>1</td>\n",
       "      <td>0</td>\n",
       "      <td>0.04</td>\n",
       "      <td>0</td>\n",
       "    </tr>\n",
       "    <tr>\n",
       "      <th>1</th>\n",
       "      <td>1</td>\n",
       "      <td>1,864.28</td>\n",
       "      <td>0</td>\n",
       "      <td>0</td>\n",
       "      <td>0</td>\n",
       "      <td>0</td>\n",
       "      <td>0</td>\n",
       "      <td>1</td>\n",
       "      <td>0</td>\n",
       "      <td>1</td>\n",
       "      <td>0</td>\n",
       "      <td>0.04</td>\n",
       "      <td>0</td>\n",
       "    </tr>\n",
       "    <tr>\n",
       "      <th>2</th>\n",
       "      <td>1</td>\n",
       "      <td>181.00</td>\n",
       "      <td>1</td>\n",
       "      <td>0</td>\n",
       "      <td>0</td>\n",
       "      <td>0</td>\n",
       "      <td>0</td>\n",
       "      <td>0</td>\n",
       "      <td>1</td>\n",
       "      <td>1</td>\n",
       "      <td>0</td>\n",
       "      <td>-0.04</td>\n",
       "      <td>1</td>\n",
       "    </tr>\n",
       "    <tr>\n",
       "      <th>3</th>\n",
       "      <td>1</td>\n",
       "      <td>181.00</td>\n",
       "      <td>1</td>\n",
       "      <td>0</td>\n",
       "      <td>0</td>\n",
       "      <td>1</td>\n",
       "      <td>0</td>\n",
       "      <td>0</td>\n",
       "      <td>0</td>\n",
       "      <td>1</td>\n",
       "      <td>0</td>\n",
       "      <td>0.03</td>\n",
       "      <td>0</td>\n",
       "    </tr>\n",
       "    <tr>\n",
       "      <th>4</th>\n",
       "      <td>1</td>\n",
       "      <td>11,668.14</td>\n",
       "      <td>0</td>\n",
       "      <td>0</td>\n",
       "      <td>0</td>\n",
       "      <td>0</td>\n",
       "      <td>0</td>\n",
       "      <td>1</td>\n",
       "      <td>0</td>\n",
       "      <td>1</td>\n",
       "      <td>0</td>\n",
       "      <td>0.04</td>\n",
       "      <td>0</td>\n",
       "    </tr>\n",
       "  </tbody>\n",
       "</table>\n",
       "</div>"
      ],
      "text/plain": [
       "   step    amount  isFraud  isFlaggedFraud  CASH_IN  CASH_OUT  DEBIT  PAYMENT  \\\n",
       "0     1  9,839.64        0               0        0         0      0        1   \n",
       "1     1  1,864.28        0               0        0         0      0        1   \n",
       "2     1    181.00        1               0        0         0      0        0   \n",
       "3     1    181.00        1               0        0         1      0        0   \n",
       "4     1 11,668.14        0               0        0         0      0        1   \n",
       "\n",
       "   TRANSFER  hour  day  score  is_anomaly  \n",
       "0         0     1    0   0.04           0  \n",
       "1         0     1    0   0.04           0  \n",
       "2         1     1    0  -0.04           1  \n",
       "3         0     1    0   0.03           0  \n",
       "4         0     1    0   0.04           0  "
      ]
     },
     "execution_count": 75,
     "metadata": {},
     "output_type": "execute_result"
    }
   ],
   "source": [
    "df_isolation_forest_pca = pd.merge(df_feat_eng, df_model_isof_pca[[\"score\", \"is_anomaly\"]], left_index=True, right_index=True)\n",
    "df_isolation_forest_pca.head()"
   ]
  },
  {
   "cell_type": "code",
   "execution_count": 82,
   "id": "c723fa3f",
   "metadata": {},
   "outputs": [
    {
     "name": "stdout",
     "output_type": "stream",
     "text": [
      "Area Under Precision-Recall Curve (AUPRC): 0.0114\n"
     ]
    },
    {
     "data": {
      "image/png": "[encoded data removed]",
      "text/plain": [
       "<Figure size 800x600 with 1 Axes>"
      ]
     },
     "metadata": {},
     "output_type": "display_data"
    }
   ],
   "source": [
    "y_test = (df_isolation_forest_pca['isFraud'] == 1).astype(int)\n",
    "y_pred = df_isolation_forest_pca['is_anomaly']\n",
    "\n",
    "# Precision-Recall Curve\n",
    "precision, recall, thresholds = precision_recall_curve(y_test, y_pred)\n",
    "\n",
    "# Area Under the Precision-Recall Curve (AUPRC)\n",
    "auprc = average_precision_score(y_test, y_pred)\n",
    "print(f\"Area Under Precision-Recall Curve (AUPRC): {auprc:.4f}\")\n",
    "\n",
    "# plot\n",
    "plt.figure(figsize=(8, 6))\n",
    "plt.plot(recall, precision, marker='.', label=f\"AUPRC = {auprc:.4f}\")\n",
    "plt.xlabel('Recall')\n",
    "plt.ylabel('Precision')\n",
    "plt.title('Precision-Recall Curve')\n",
    "plt.legend()\n",
    "plt.grid()\n",
    "plt.show() "
   ]
  },
  {
   "cell_type": "markdown",
   "id": "00737c88",
   "metadata": {},
   "source": [
    "##### ___One-Class SVM___"
   ]
  },
  {
   "cell_type": "code",
   "execution_count": null,
   "id": "57d56df8",
   "metadata": {},
   "outputs": [],
   "source": []
  },
  {
   "cell_type": "markdown",
   "id": "0fa93e26",
   "metadata": {},
   "source": [
    "##### ___DBSCAN for Clustering___"
   ]
  },
  {
   "cell_type": "code",
   "execution_count": null,
   "id": "dd2c0a84",
   "metadata": {},
   "outputs": [],
   "source": []
  }
 ],
 "metadata": {
  "kernelspec": {
   "display_name": "Python_3_11_11",
   "language": "python",
   "name": "python3"
  },
  "language_info": {
   "codemirror_mode": {
    "name": "ipython",
    "version": 3
   },
   "file_extension": ".py",
   "mimetype": "text/x-python",
   "name": "python",
   "nbconvert_exporter": "python",
   "pygments_lexer": "ipython3",
   "version": "3.11.11"
  }
 },
 "nbformat": 4,
 "nbformat_minor": 5
}
